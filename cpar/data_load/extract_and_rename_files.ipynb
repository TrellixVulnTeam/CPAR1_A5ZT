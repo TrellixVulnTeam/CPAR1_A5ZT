{
 "cells": [
  {
   "cell_type": "code",
   "execution_count": 137,
   "metadata": {
    "collapsed": true
   },
   "outputs": [],
   "source": [
    "import os\n",
    "import zipfile\n",
    "import datetime"
   ]
  },
  {
   "cell_type": "code",
   "execution_count": 145,
   "metadata": {
    "collapsed": true
   },
   "outputs": [],
   "source": [
    "current_dir = os.getcwd()\n",
    "file_name = '20180103CCCDMonthlyUICheck.zip'\n",
    "source_file_path = current_dir+\"/source_data/\"\n",
    "output_file_path = current_dir+\"/output_data/\"\n",
    "#path_to_zip_file = '/Users/maitraikansal/Desktop/'+file_name\n",
    "path_to_zip_file = current_dir+'/'+file_name\n",
    "try:\n",
    "    if not os.path.exists(source_file_path):\n",
    "        os.makedirs(source_file_path)\n",
    "    if not os.path.exists(output_file_path):\n",
    "        os.makedirs(output_file_path)\n",
    "    if os.path.exists(path_to_zip_file):\n",
    "        os.rename(path_to_zip_file, source_file_path+file_name)\n",
    "except:\n",
    "    print(\"Something went wrong\")"
   ]
  },
  {
   "cell_type": "code",
   "execution_count": 148,
   "metadata": {},
   "outputs": [],
   "source": [
    "#unzip the file from source folder to output folder\n",
    "\n",
    "file_unzipped = zipfile.ZipFile(source_file_path+file_name, 'r')\n",
    "file_unzipped.setpassword(b'SprinG1023!')\n",
    "file_unzipped.extractall(output_file_path)\n",
    "file_unzipped.close()\n"
   ]
  },
  {
   "cell_type": "code",
   "execution_count": 149,
   "metadata": {},
   "outputs": [],
   "source": [
    "filename_mapping = {}\n",
    "datetimestamp = datetime.datetime.now().strftime(\"%Y%m%d%H%M\")\n",
    "filename_mapping['serviceproc_finaluick1.out'] = 'AIDP.EDWPROCE.AUHP.'+datetimestamp\n",
    "filename_mapping['recipientflags_final_uick1.out'] = 'AIDP.EDWFLAGS.AUHP.'+datetimestamp\n",
    "filename_mapping['servicediag_finaluick1.out'] = 'AIDP.EDWDIAGN.AUHP.'+datetimestamp\n",
    "filename_mapping['lead_finaluick1.out'] = 'AIDP.EDWDLEAD.AUHP.'+datetimestamp\n",
    "filename_mapping['servicepharmndc_finaluick1.out'] = 'AIDP.EDWCOMPD.AUHP.'+datetimestamp\n",
    "filename_mapping['cornerstone_finaluick1.out'] = 'AIDP.EDWCRNST.AUHP.'+datetimestamp\n",
    "filename_mapping['servicenips_finaluick1.out'] = 'AIDP.EDWSNIPS.AUHP.'+datetimestamp\n",
    "filename_mapping['servicerev_finaluick1.out'] = 'AIDP.EDWREVEN.AUHP.'+datetimestamp\n",
    "filename_mapping['serviceinst_finaluick1.out'] = 'AIDP.EDWINSTI.AUHP.'+datetimestamp\n",
    "filename_mapping['claim_finaluick1.out'] = 'AIDP.EDWCLAMS.AUHP.'+datetimestamp\n",
    "filename_mapping['pharmacy_finaluick1.out'] = 'AIDP.EDWPHARM.AUHP.'+datetimestamp\n",
    "filename_mapping['adjustedclaimextractuick1.out'] = 'AIDP.EDWADJST.AUHP.'+datetimestamp\n",
    "\n",
    "file_names = os.listdir(output_file_path)\n",
    "                        \n",
    "for file in file_names:\n",
    "    for source_file in filename_mapping.keys():\n",
    "        if file in source_file:\n",
    "            os.rename(output_file_path+file, output_file_path+filename_mapping[source_file])\n"
   ]
  },
  {
   "cell_type": "code",
   "execution_count": null,
   "metadata": {},
   "outputs": [],
   "source": []
  }
 ],
 "metadata": {
  "kernelspec": {
   "display_name": "Python 3",
   "language": "python",
   "name": "python3"
  },
  "language_info": {
   "codemirror_mode": {
    "name": "ipython",
    "version": 3
   },
   "file_extension": ".py",
   "mimetype": "text/x-python",
   "name": "python",
   "nbconvert_exporter": "python",
   "pygments_lexer": "ipython3",
   "version": "3.6.3"
  }
 },
 "nbformat": 4,
 "nbformat_minor": 2
}
